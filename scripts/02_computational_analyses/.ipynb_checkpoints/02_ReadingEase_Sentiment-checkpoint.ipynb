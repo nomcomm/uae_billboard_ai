{
 "cells": [
  {
   "cell_type": "markdown",
   "id": "737ae72e",
   "metadata": {},
   "source": [
    "## Computational Analyses II: Reading Ease and Sentiment\n",
    "\n",
    "### Install and Import modules"
   ]
  },
  {
   "cell_type": "code",
   "execution_count": 10,
   "id": "0571c9c5",
   "metadata": {},
   "outputs": [],
   "source": [
    "#!python -m pip install wordcloud\n",
    "#!python -m pip install textacy\n",
    "#!python -m spacy download en_core_web_sm\n",
    "#!pip install vaderSentiment\n",
    "import matplotlib.pyplot as plt\n",
    "import pandas as pd\n",
    "import numpy as np\n",
    "import seaborn as sns\n",
    "from scipy import stats\n",
    "from vaderSentiment.vaderSentiment import SentimentIntensityAnalyzer\n",
    "import warnings, random, spacy, textacy, sys, re, string, sys\n",
    "import textacy.text_stats\n",
    "sns.set_theme(style=\"whitegrid\")\n",
    "sns.set_style(\"ticks\")\n",
    "warnings.filterwarnings('ignore')\n",
    "%matplotlib inline"
   ]
  },
  {
   "cell_type": "markdown",
   "id": "08f6e7d0-8b82-41bb-9f22-e2286c2e0299",
   "metadata": {},
   "source": [
    "### load messages and prepare"
   ]
  },
  {
   "cell_type": "code",
   "execution_count": 11,
   "id": "27382180",
   "metadata": {},
   "outputs": [
    {
     "name": "stdout",
     "output_type": "stream",
     "text": [
      "15    Think about your family back home. Put down th...\n",
      "16    A text is not worth everything you’ve worked f...\n",
      "17    Moussa (44): “I wanted to just send one text t...\n",
      "Name: Message Text, dtype: object\n",
      "---\n",
      "0    Every message home matters, but your safety he...\n",
      "1    Hard work brought you to the UAE. don't let a ...\n",
      "2    Building dreams in the UAE? Every text while d...\n",
      "Name: Message Text, dtype: object\n",
      "30\n"
     ]
    },
    {
     "data": {
      "text/html": [
       "<div>\n",
       "<style scoped>\n",
       "    .dataframe tbody tr th:only-of-type {\n",
       "        vertical-align: middle;\n",
       "    }\n",
       "\n",
       "    .dataframe tbody tr th {\n",
       "        vertical-align: top;\n",
       "    }\n",
       "\n",
       "    .dataframe thead th {\n",
       "        text-align: right;\n",
       "    }\n",
       "</style>\n",
       "<table border=\"1\" class=\"dataframe\">\n",
       "  <thead>\n",
       "    <tr style=\"text-align: right;\">\n",
       "      <th></th>\n",
       "      <th>Source</th>\n",
       "      <th>Theme</th>\n",
       "      <th>Message Text</th>\n",
       "    </tr>\n",
       "  </thead>\n",
       "  <tbody>\n",
       "    <tr>\n",
       "      <th>0</th>\n",
       "      <td>AI</td>\n",
       "      <td>MW</td>\n",
       "      <td>Every message home matters, but your safety he...</td>\n",
       "    </tr>\n",
       "    <tr>\n",
       "      <th>1</th>\n",
       "      <td>AI</td>\n",
       "      <td>MW</td>\n",
       "      <td>Hard work brought you to the UAE. don't let a ...</td>\n",
       "    </tr>\n",
       "    <tr>\n",
       "      <th>2</th>\n",
       "      <td>AI</td>\n",
       "      <td>MW</td>\n",
       "      <td>Building dreams in the UAE? Every text while d...</td>\n",
       "    </tr>\n",
       "    <tr>\n",
       "      <th>3</th>\n",
       "      <td>AI</td>\n",
       "      <td>MW</td>\n",
       "      <td>In the heart of the desert or the city's pulse...</td>\n",
       "    </tr>\n",
       "    <tr>\n",
       "      <th>4</th>\n",
       "      <td>AI</td>\n",
       "      <td>MW</td>\n",
       "      <td>We all journey to the UAE for a brighter tomor...</td>\n",
       "    </tr>\n",
       "  </tbody>\n",
       "</table>\n",
       "</div>"
      ],
      "text/plain": [
       "  Source Theme                                       Message Text\n",
       "0     AI    MW  Every message home matters, but your safety he...\n",
       "1     AI    MW  Hard work brought you to the UAE. don't let a ...\n",
       "2     AI    MW  Building dreams in the UAE? Every text while d...\n",
       "3     AI    MW  In the heart of the desert or the city's pulse...\n",
       "4     AI    MW  We all journey to the UAE for a brighter tomor..."
      ]
     },
     "execution_count": 11,
     "metadata": {},
     "output_type": "execute_result"
    }
   ],
   "source": [
    "msg_file = '../../data/messages_computational_analysis.csv'\n",
    "all_msg_df  = pd.read_csv(msg_file)\n",
    "\n",
    "#read selected human generated messages\n",
    "human_msgs = all_msg_df[all_msg_df['Source'] == \"HUM\"][\"Message Text\"]#.values\n",
    "print(human_msgs[:3])\n",
    "print('---')\n",
    "ai_msgs = all_msg_df[all_msg_df['Source'] == \"AI\"][\"Message Text\"]#.values\n",
    "print(ai_msgs[:3])\n",
    "\n",
    "print(len(all_msg_df))\n",
    "all_msg_df.head()"
   ]
  },
  {
   "cell_type": "markdown",
   "id": "02105342-33b9-44b9-97db-c052e6ab2c87",
   "metadata": {},
   "source": [
    "### Compute Readability (SMOG-index - ‘Simple Measure of Gobbledygook’; Higher value => more difficult text.)"
   ]
  },
  {
   "cell_type": "code",
   "execution_count": 20,
   "id": "5886d511",
   "metadata": {},
   "outputs": [
    {
     "name": "stdout",
     "output_type": "stream",
     "text": [
      "4.458861218127508\n",
      "1.9627247054619537\n",
      "5.842996353226837\n",
      "2.3851529477042073\n",
      "TtestResult(statistic=-1.6766408213974373, pvalue=0.10474447181993403, df=28.0)\n"
     ]
    },
    {
     "data": {
      "text/html": [
       "<div>\n",
       "<style scoped>\n",
       "    .dataframe tbody tr th:only-of-type {\n",
       "        vertical-align: middle;\n",
       "    }\n",
       "\n",
       "    .dataframe tbody tr th {\n",
       "        vertical-align: top;\n",
       "    }\n",
       "\n",
       "    .dataframe thead th {\n",
       "        text-align: right;\n",
       "    }\n",
       "</style>\n",
       "<table border=\"1\" class=\"dataframe\">\n",
       "  <thead>\n",
       "    <tr style=\"text-align: right;\">\n",
       "      <th></th>\n",
       "      <th>human_ease</th>\n",
       "      <th>ai_ease</th>\n",
       "    </tr>\n",
       "  </thead>\n",
       "  <tbody>\n",
       "    <tr>\n",
       "      <th>0</th>\n",
       "      <td>3.129100</td>\n",
       "      <td>3.129100</td>\n",
       "    </tr>\n",
       "    <tr>\n",
       "      <th>1</th>\n",
       "      <td>3.129100</td>\n",
       "      <td>3.129100</td>\n",
       "    </tr>\n",
       "    <tr>\n",
       "      <th>2</th>\n",
       "      <td>3.129100</td>\n",
       "      <td>6.427356</td>\n",
       "    </tr>\n",
       "    <tr>\n",
       "      <th>3</th>\n",
       "      <td>7.168622</td>\n",
       "      <td>3.129100</td>\n",
       "    </tr>\n",
       "    <tr>\n",
       "      <th>4</th>\n",
       "      <td>3.129100</td>\n",
       "      <td>6.427356</td>\n",
       "    </tr>\n",
       "  </tbody>\n",
       "</table>\n",
       "</div>"
      ],
      "text/plain": [
       "   human_ease   ai_ease\n",
       "0    3.129100  3.129100\n",
       "1    3.129100  3.129100\n",
       "2    3.129100  6.427356\n",
       "3    7.168622  3.129100\n",
       "4    3.129100  6.427356"
      ]
     },
     "execution_count": 20,
     "metadata": {},
     "output_type": "execute_result"
    }
   ],
   "source": [
    "nlp = spacy.load(\"en_core_web_sm\")\n",
    "\n",
    "human_readabilities = []\n",
    "for curr_msg in human_msgs:\n",
    "    doc = textacy.make_spacy_doc(curr_msg, lang=\"en_core_web_sm\")\n",
    "    human_readabilities.append(textacy.text_stats.smog_index(doc));\n",
    "    \n",
    "ai_readabilities = []\n",
    "for curr_msg in ai_msgs:\n",
    "    doc = textacy.make_spacy_doc(curr_msg, lang=\"en_core_web_sm\")\n",
    "    ai_readabilities.append(textacy.text_stats.smog_index(doc));\n",
    "      \n",
    "'''Readability test used as a general-purpose standard in several languages, based on\n",
    "a weighted combination of avg. sentence length and avg. word length. Values usually\n",
    "fall in the range [0, 100], but may be arbitrarily negative in extreme cases. Higher value => easier text.'''\n",
    "\n",
    "print(np.mean(human_readabilities))\n",
    "print(np.std(human_readabilities))\n",
    "\n",
    "print(np.mean(ai_readabilities))\n",
    "print(np.std(ai_readabilities))\n",
    "\n",
    "print(stats.ttest_ind(human_readabilities, ai_readabilities))\n",
    "\n",
    "df_readability = pd.DataFrame(np.vstack((human_readabilities, ai_readabilities)).T, columns = ['human_ease', 'ai_ease'])\n",
    "df_readability.head()"
   ]
  },
  {
   "cell_type": "markdown",
   "id": "763e6435-db1c-4b68-ac88-c7d37be94c28",
   "metadata": {},
   "source": [
    "### Compute Sentiment (Vader - Valence Aware Dictionary and sEntiment Reasoner)\n",
    "compound score is computed by summing the valence scores of each word in the lexicon, adjusted according to the rules, and then normalized to be between -1 (most extreme negative) and +1 )"
   ]
  },
  {
   "cell_type": "code",
   "execution_count": 21,
   "id": "f3b45cdb",
   "metadata": {},
   "outputs": [
    {
     "name": "stdout",
     "output_type": "stream",
     "text": [
      "0.04236\n",
      "0.4994397231565253\n",
      "0.6994333333333332\n",
      "0.21414223829553625\n",
      "TtestResult(statistic=-4.524268700041562, pvalue=0.000101705080211104, df=28.0)\n"
     ]
    },
    {
     "data": {
      "text/html": [
       "<div>\n",
       "<style scoped>\n",
       "    .dataframe tbody tr th:only-of-type {\n",
       "        vertical-align: middle;\n",
       "    }\n",
       "\n",
       "    .dataframe tbody tr th {\n",
       "        vertical-align: top;\n",
       "    }\n",
       "\n",
       "    .dataframe thead th {\n",
       "        text-align: right;\n",
       "    }\n",
       "</style>\n",
       "<table border=\"1\" class=\"dataframe\">\n",
       "  <thead>\n",
       "    <tr style=\"text-align: right;\">\n",
       "      <th></th>\n",
       "      <th>human_sentiment</th>\n",
       "      <th>ai_sentiment</th>\n",
       "    </tr>\n",
       "  </thead>\n",
       "  <tbody>\n",
       "    <tr>\n",
       "      <th>0</th>\n",
       "      <td>0.0000</td>\n",
       "      <td>0.9239</td>\n",
       "    </tr>\n",
       "    <tr>\n",
       "      <th>1</th>\n",
       "      <td>-0.1695</td>\n",
       "      <td>0.2960</td>\n",
       "    </tr>\n",
       "    <tr>\n",
       "      <th>2</th>\n",
       "      <td>-0.5423</td>\n",
       "      <td>0.7351</td>\n",
       "    </tr>\n",
       "    <tr>\n",
       "      <th>3</th>\n",
       "      <td>0.0000</td>\n",
       "      <td>0.7783</td>\n",
       "    </tr>\n",
       "    <tr>\n",
       "      <th>4</th>\n",
       "      <td>0.0000</td>\n",
       "      <td>0.5423</td>\n",
       "    </tr>\n",
       "  </tbody>\n",
       "</table>\n",
       "</div>"
      ],
      "text/plain": [
       "   human_sentiment  ai_sentiment\n",
       "0           0.0000        0.9239\n",
       "1          -0.1695        0.2960\n",
       "2          -0.5423        0.7351\n",
       "3           0.0000        0.7783\n",
       "4           0.0000        0.5423"
      ]
     },
     "execution_count": 21,
     "metadata": {},
     "output_type": "execute_result"
    }
   ],
   "source": [
    "analyzer = SentimentIntensityAnalyzer()\n",
    "\n",
    "human_sentiment = []\n",
    "for sentence in human_msgs:\n",
    "    vs = analyzer.polarity_scores(sentence)\n",
    "    human_sentiment.append(vs['compound'])\n",
    "    \n",
    "ai_sentiment = []\n",
    "for sentence in ai_msgs:\n",
    "    vs = analyzer.polarity_scores(sentence)\n",
    "    ai_sentiment.append(vs['compound'])\n",
    "\n",
    "print(np.mean(human_sentiment))\n",
    "print(np.std(human_sentiment))\n",
    "\n",
    "print(np.mean(ai_sentiment))\n",
    "print(np.std(ai_sentiment))\n",
    "\n",
    "print(stats.ttest_ind(human_sentiment, ai_sentiment))\n",
    "\n",
    "df_sentiment = pd.DataFrame(np.vstack((human_sentiment, ai_sentiment)).T, columns = ['human_sentiment', 'ai_sentiment'])\n",
    "df_sentiment.head()"
   ]
  },
  {
   "cell_type": "markdown",
   "id": "e7542bf9-92e6-409b-b4a3-7f9a7a9bb7dc",
   "metadata": {},
   "source": [
    "### combine dfs (sentiment and ease) and plot "
   ]
  },
  {
   "cell_type": "code",
   "execution_count": 22,
   "id": "361bdaa9",
   "metadata": {},
   "outputs": [
    {
     "data": {
      "text/html": [
       "<div>\n",
       "<style scoped>\n",
       "    .dataframe tbody tr th:only-of-type {\n",
       "        vertical-align: middle;\n",
       "    }\n",
       "\n",
       "    .dataframe tbody tr th {\n",
       "        vertical-align: top;\n",
       "    }\n",
       "\n",
       "    .dataframe thead th {\n",
       "        text-align: right;\n",
       "    }\n",
       "</style>\n",
       "<table border=\"1\" class=\"dataframe\">\n",
       "  <thead>\n",
       "    <tr style=\"text-align: right;\">\n",
       "      <th></th>\n",
       "      <th>metric</th>\n",
       "      <th>type</th>\n",
       "      <th>question</th>\n",
       "    </tr>\n",
       "  </thead>\n",
       "  <tbody>\n",
       "    <tr>\n",
       "      <th>0</th>\n",
       "      <td>0.0000</td>\n",
       "      <td>Human</td>\n",
       "      <td>Sentiment</td>\n",
       "    </tr>\n",
       "    <tr>\n",
       "      <th>1</th>\n",
       "      <td>-0.1695</td>\n",
       "      <td>Human</td>\n",
       "      <td>Sentiment</td>\n",
       "    </tr>\n",
       "    <tr>\n",
       "      <th>2</th>\n",
       "      <td>-0.5423</td>\n",
       "      <td>Human</td>\n",
       "      <td>Sentiment</td>\n",
       "    </tr>\n",
       "    <tr>\n",
       "      <th>3</th>\n",
       "      <td>0.0000</td>\n",
       "      <td>Human</td>\n",
       "      <td>Sentiment</td>\n",
       "    </tr>\n",
       "    <tr>\n",
       "      <th>4</th>\n",
       "      <td>0.0000</td>\n",
       "      <td>Human</td>\n",
       "      <td>Sentiment</td>\n",
       "    </tr>\n",
       "  </tbody>\n",
       "</table>\n",
       "</div>"
      ],
      "text/plain": [
       "   metric   type   question\n",
       "0  0.0000  Human  Sentiment\n",
       "1 -0.1695  Human  Sentiment\n",
       "2 -0.5423  Human  Sentiment\n",
       "3  0.0000  Human  Sentiment\n",
       "4  0.0000  Human  Sentiment"
      ]
     },
     "execution_count": 22,
     "metadata": {},
     "output_type": "execute_result"
    }
   ],
   "source": [
    "dfh             = pd.DataFrame()\n",
    "dfh['metric']   = df_sentiment.human_sentiment\n",
    "dfh['type']     = 'Human'; dfh['question'] = 'Sentiment'\n",
    "dfa             = pd.DataFrame()\n",
    "dfa['metric']   = df_sentiment.ai_sentiment\n",
    "dfa['type']     = 'AI'; dfa['question'] = 'Sentiment'\n",
    "df_sentiment      = pd.concat([dfh, dfa]) \n",
    "\n",
    "dfh             = pd.DataFrame()\n",
    "dfh['metric']   = df_readability.human_ease.values\n",
    "dfh['type']     = 'Human'; dfh['question'] = 'Reading Ease'\n",
    "dfa             = pd.DataFrame()\n",
    "dfa['metric']   = df_readability.ai_ease.values\n",
    "dfa['type']     = 'AI'; dfa['question'] = 'Reading Ease'\n",
    "df_ease         = pd.concat([dfh, dfa]) \n",
    "\n",
    "#df_all          = pd.concat([df_sentiment, df_ease]) \n",
    "#df_all          = df_all.rename(columns={\"rating\": \"metric\"})\n",
    "#df_all.head()"
   ]
  },
  {
   "cell_type": "code",
   "execution_count": 53,
   "id": "b8832fa9-8df3-4376-be77-2b9b56d5a9a6",
   "metadata": {},
   "outputs": [
    {
     "data": {
      "image/png": "[encoded data removed]",
      "text/plain": [
       "<Figure size 600x175 with 1 Axes>"
      ]
     },
     "metadata": {},
     "output_type": "display_data"
    }
   ],
   "source": [
    "plt.figure(figsize = (6,1.75))\n",
    "ax = sns.violinplot(data=df_sentiment, y=\"question\", x=\"metric\", hue=\"type\", \n",
    "               split=True, inner=\"quart\", linewidth=1,\n",
    "               palette={\"Human\": \"salmon\", \"AI\": \"dodgerblue\"});\n",
    "for violin, alpha in zip(ax.collections[::], [0.3,0.3, 0.3, 0.3]): violin.set_alpha(alpha)\n",
    "\n",
    "sns.swarmplot(data=df_sentiment, y=\"question\", x=\"metric\",\n",
    "              hue=\"type\", dodge = True,\n",
    "              palette={\"Human\": \"r\", \"AI\": \"b\"});\n",
    "\n",
    "plt.legend([],[], frameon=False)\n",
    "#plt.ylim(-1.5,1.5);\n",
    "sns.despine(offset= 10, trim=True);\n"
   ]
  },
  {
   "cell_type": "code",
   "execution_count": 54,
   "id": "fd0ed927-acdc-43bb-a8e2-01c8567e0107",
   "metadata": {},
   "outputs": [
    {
     "data": {
      "image/png": "[encoded data removed]",
      "text/plain": [
       "<Figure size 600x175 with 1 Axes>"
      ]
     },
     "metadata": {},
     "output_type": "display_data"
    }
   ],
   "source": [
    "plt.figure(figsize = (6,1.75))\n",
    "ax = sns.violinplot(data=df_ease, y=\"question\", x=\"metric\", hue=\"type\", \n",
    "               split=True, inner=\"quart\", linewidth=1,\n",
    "               palette={\"Human\": \"salmon\", \"AI\": \"dodgerblue\"});\n",
    "\n",
    "for violin, alpha in zip(ax.collections[::], [0.3,0.3, 0.3, 0.3]):\n",
    "    violin.set_alpha(alpha)\n",
    "\n",
    "sns.swarmplot(data=df_ease, y=\"question\", x=\"metric\", \n",
    "              hue=\"type\", dodge = True, palette={\"Human\": \"r\", \"AI\": \"b\"});\n",
    "\n",
    "plt.legend([],[], frameon=False)\n",
    "#plt.ylim(-1,1);\n",
    "sns.despine(offset= 10, trim=True);"
   ]
  },
  {
   "cell_type": "code",
   "execution_count": null,
   "id": "e7983ef0-0580-44ac-8277-ddbb394ec997",
   "metadata": {},
   "outputs": [],
   "source": []
  }
 ],
 "metadata": {
  "kernelspec": {
   "display_name": "Python 3 (ipykernel)",
   "language": "python",
   "name": "python3"
  },
  "language_info": {
   "codemirror_mode": {
    "name": "ipython",
    "version": 3
   },
   "file_extension": ".py",
   "mimetype": "text/x-python",
   "name": "python",
   "nbconvert_exporter": "python",
   "pygments_lexer": "ipython3",
   "version": "3.10.13"
  }
 },
 "nbformat": 4,
 "nbformat_minor": 5
}
